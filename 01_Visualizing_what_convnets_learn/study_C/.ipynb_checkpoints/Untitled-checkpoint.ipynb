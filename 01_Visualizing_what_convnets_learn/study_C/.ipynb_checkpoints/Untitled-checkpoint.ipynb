{
 "cells": [
  {
   "cell_type": "code",
   "execution_count": 1,
   "metadata": {},
   "outputs": [
    {
     "name": "stdout",
     "output_type": "stream",
     "text": [
      "Requirement already satisfied: fastai==0.7.0 in c:\\users\\82103\\venv\\py367july\\lib\\site-packages (0.7.0)\n"
     ]
    }
   ],
   "source": [
    "!pip install fastai==0.7.0 --no-deps"
   ]
  },
  {
   "cell_type": "code",
   "execution_count": 2,
   "metadata": {},
   "outputs": [
    {
     "name": "stdout",
     "output_type": "stream",
     "text": [
      "Requirement already satisfied: bcolz in c:\\users\\82103\\venv\\py367july\\lib\\site-packages (1.2.1)\n",
      "Requirement already satisfied: numpy>=1.7 in c:\\users\\82103\\venv\\py367july\\lib\\site-packages (from bcolz) (1.16.4)\n",
      "Requirement already satisfied: isoweek in c:\\users\\82103\\venv\\py367july\\lib\\site-packages (1.3.3)\n",
      "Requirement already satisfied: pandas_summary in c:\\users\\82103\\venv\\py367july\\lib\\site-packages (0.0.6)\n",
      "Requirement already satisfied: numpy in c:\\users\\82103\\venv\\py367july\\lib\\site-packages (from pandas_summary) (1.16.4)\n",
      "Requirement already satisfied: pandas in c:\\users\\82103\\venv\\py367july\\lib\\site-packages (from pandas_summary) (0.25.0)\n",
      "Requirement already satisfied: python-dateutil>=2.6.1 in c:\\users\\82103\\venv\\py367july\\lib\\site-packages (from pandas->pandas_summary) (2.8.0)\n",
      "Requirement already satisfied: pytz>=2017.2 in c:\\users\\82103\\venv\\py367july\\lib\\site-packages (from pandas->pandas_summary) (2019.2)\n",
      "Requirement already satisfied: six>=1.5 in c:\\users\\82103\\venv\\py367july\\lib\\site-packages (from python-dateutil>=2.6.1->pandas->pandas_summary) (1.12.0)\n"
     ]
    }
   ],
   "source": [
    "!pip install bcolz\n",
    "!pip install isoweek\n",
    "!pip install pandas_summary"
   ]
  },
  {
   "cell_type": "code",
   "execution_count": null,
   "metadata": {},
   "outputs": [],
   "source": [
    "!pip install fastai==0.7.0\n",
    "!pip install torchtext==0.2.3"
   ]
  },
  {
   "cell_type": "code",
   "execution_count": null,
   "metadata": {},
   "outputs": [],
   "source": [
    "import fastai\n",
    "from fastai.conv_learner import *\n",
    "from cv2 import resize\n",
    "%matplotlib inline"
   ]
  },
  {
   "cell_type": "code",
   "execution_count": null,
   "metadata": {},
   "outputs": [],
   "source": [
    "class SaveFeatures():\n",
    "    def __init__(self, module):\n",
    "        self.hook = module.register_forward_hook(self.hook_fn)\n",
    "    def hook_fn(self, module, input, output):\n",
    "        self.features = torch.tensor(output,requires_grad=True).cuda()\n",
    "    def close(self):\n",
    "        self.hook.remove()"
   ]
  },
  {
   "cell_type": "code",
   "execution_count": null,
   "metadata": {},
   "outputs": [],
   "source": [
    "class FilterVisualizer():\n",
    "    def __init__(self, size=56, upscaling_steps=12, upscaling_factor=1.2):\n",
    "        self.size, self.upscaling_steps, self.upscaling_factor = size, upscaling_steps, upscaling_factor\n",
    "        self.model = vgg16(pre=True).cuda().eval()\n",
    "        set_trainable(self.model, False)\n",
    "\n",
    "    def visualize(self, layer, filter, lr=0.1, opt_steps=20, blur=None):\n",
    "        sz = self.size\n",
    "        img = np.uint8(np.random.uniform(150, 180, (sz, sz, 3)))/255  # generate random image\n",
    "        activations = SaveFeatures(list(self.model.children())[layer])  # register hook\n",
    "\n",
    "        for _ in range(self.upscaling_steps):  # scale the image up upscaling_steps times\n",
    "            train_tfms, val_tfms = tfms_from_model(vgg16, sz)\n",
    "            img_var = V(val_tfms(img)[None], requires_grad=True)  # convert image to Variable that requires grad\n",
    "            optimizer = torch.optim.Adam([img_var], lr=lr, weight_decay=1e-6)\n",
    "            for n in range(opt_steps):  # optimize pixel values for opt_steps times\n",
    "                optimizer.zero_grad()\n",
    "                self.model(img_var)\n",
    "                loss = -activations.features[0, filter].mean()\n",
    "                loss.backward()\n",
    "                optimizer.step()\n",
    "            img = val_tfms.denorm(img_var.data.cpu().numpy()[0].transpose(1,2,0))\n",
    "            self.output = img\n",
    "            sz = int(self.upscaling_factor * sz)  # calculate new image size\n",
    "            img = cv2.resize(img, (sz, sz), interpolation = cv2.INTER_CUBIC)  # scale image up\n",
    "            if blur is not None: img = cv2.blur(img,(blur,blur))  # blur image to reduce high frequency patterns\n",
    "        self.save(layer, filter)\n",
    "        activations.close()\n",
    "        \n",
    "    def save(self, layer, filter):\n",
    "        plt.imsave(\"layer_\"+str(layer)+\"_filter_\"+str(filter)+\".jpg\", np.clip(self.output, 0, 1))"
   ]
  },
  {
   "cell_type": "code",
   "execution_count": null,
   "metadata": {
    "scrolled": true
   },
   "outputs": [],
   "source": [
    "layer = 40\n",
    "filter = 265\n",
    "\n",
    "FV = FilterVisualizer(size=56, upscaling_steps=12, upscaling_factor=1.2)\n",
    "FV.visualize(layer, filter, blur=5)\n",
    "\n",
    "img = PIL.Image.open(\"layer_\"+str(layer)+\"_filter_\"+str(filter)+\".jpg\")\n",
    "plt.figure(figsize=(7,7))\n",
    "plt.imshow(img)"
   ]
  },
  {
   "cell_type": "code",
   "execution_count": null,
   "metadata": {},
   "outputs": [],
   "source": []
  },
  {
   "cell_type": "code",
   "execution_count": null,
   "metadata": {},
   "outputs": [],
   "source": []
  }
 ],
 "metadata": {
  "kernelspec": {
   "display_name": "Python 3",
   "language": "python",
   "name": "python3"
  }
 },
 "nbformat": 4,
 "nbformat_minor": 2
}
